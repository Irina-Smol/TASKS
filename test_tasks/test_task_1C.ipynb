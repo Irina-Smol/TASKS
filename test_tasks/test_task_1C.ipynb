{
 "cells": [
  {
   "cell_type": "code",
   "execution_count": 1,
   "id": "96516a86",
   "metadata": {},
   "outputs": [],
   "source": [
    "import pandas as pd"
   ]
  },
  {
   "cell_type": "code",
   "execution_count": 22,
   "id": "1f2eedf7",
   "metadata": {},
   "outputs": [],
   "source": [
    "df = pd.read_json('test_exercise.JSON')"
   ]
  },
  {
   "cell_type": "code",
   "execution_count": 3,
   "id": "d9f8df0a",
   "metadata": {},
   "outputs": [
    {
     "data": {
      "text/html": [
       "<div>\n",
       "<style scoped>\n",
       "    .dataframe tbody tr th:only-of-type {\n",
       "        vertical-align: middle;\n",
       "    }\n",
       "\n",
       "    .dataframe tbody tr th {\n",
       "        vertical-align: top;\n",
       "    }\n",
       "\n",
       "    .dataframe thead th {\n",
       "        text-align: right;\n",
       "    }\n",
       "</style>\n",
       "<table border=\"1\" class=\"dataframe\">\n",
       "  <thead>\n",
       "    <tr style=\"text-align: right;\">\n",
       "      <th></th>\n",
       "      <th>items</th>\n",
       "    </tr>\n",
       "  </thead>\n",
       "  <tbody>\n",
       "    <tr>\n",
       "      <th>counterparty</th>\n",
       "      <td>ООО Ромашка</td>\n",
       "    </tr>\n",
       "    <tr>\n",
       "      <th>date</th>\n",
       "      <td>2023-04-04T12:34:35</td>\n",
       "    </tr>\n",
       "    <tr>\n",
       "      <th>id_document</th>\n",
       "      <td>000001</td>\n",
       "    </tr>\n",
       "    <tr>\n",
       "      <th>organization</th>\n",
       "      <td>ООО Рога и Копыта</td>\n",
       "    </tr>\n",
       "    <tr>\n",
       "      <th>products</th>\n",
       "      <td>[{'nomenclature_name': 'Печенье', 'summa': 192...</td>\n",
       "    </tr>\n",
       "    <tr>\n",
       "      <th>products_total_nds</th>\n",
       "      <td>None</td>\n",
       "    </tr>\n",
       "    <tr>\n",
       "      <th>products_total_price</th>\n",
       "      <td>None</td>\n",
       "    </tr>\n",
       "    <tr>\n",
       "      <th>type_nds</th>\n",
       "      <td>VAT_Top</td>\n",
       "    </tr>\n",
       "  </tbody>\n",
       "</table>\n",
       "</div>"
      ],
      "text/plain": [
       "                                                                  items\n",
       "counterparty                                                ООО Ромашка\n",
       "date                                                2023-04-04T12:34:35\n",
       "id_document                                                      000001\n",
       "organization                                          ООО Рога и Копыта\n",
       "products              [{'nomenclature_name': 'Печенье', 'summa': 192...\n",
       "products_total_nds                                                 None\n",
       "products_total_price                                               None\n",
       "type_nds                                                        VAT_Top"
      ]
     },
     "execution_count": 3,
     "metadata": {},
     "output_type": "execute_result"
    }
   ],
   "source": [
    "df"
   ]
  },
  {
   "cell_type": "code",
   "execution_count": 7,
   "id": "b9345fc6",
   "metadata": {},
   "outputs": [],
   "source": [
    " # Сброс ограничений на количество выводимых рядов \n",
    "pd.set_option('display.max_rows', None)   \n",
    "\n",
    "# Сброс ограничений на число столбцов \n",
    "pd.set_option('display.max_columns', None)   \n",
    "\n",
    "# Сброс ограничений на количество символов в записи \n",
    "pd.set_option('display.max_colwidth', None)"
   ]
  },
  {
   "cell_type": "code",
   "execution_count": 8,
   "id": "4b4a5d09",
   "metadata": {},
   "outputs": [
    {
     "data": {
      "text/html": [
       "<div>\n",
       "<style scoped>\n",
       "    .dataframe tbody tr th:only-of-type {\n",
       "        vertical-align: middle;\n",
       "    }\n",
       "\n",
       "    .dataframe tbody tr th {\n",
       "        vertical-align: top;\n",
       "    }\n",
       "\n",
       "    .dataframe thead th {\n",
       "        text-align: right;\n",
       "    }\n",
       "</style>\n",
       "<table border=\"1\" class=\"dataframe\">\n",
       "  <thead>\n",
       "    <tr style=\"text-align: right;\">\n",
       "      <th></th>\n",
       "      <th>items</th>\n",
       "    </tr>\n",
       "  </thead>\n",
       "  <tbody>\n",
       "    <tr>\n",
       "      <th>counterparty</th>\n",
       "      <td>ООО Ромашка</td>\n",
       "    </tr>\n",
       "    <tr>\n",
       "      <th>date</th>\n",
       "      <td>2023-04-04T12:34:35</td>\n",
       "    </tr>\n",
       "    <tr>\n",
       "      <th>id_document</th>\n",
       "      <td>000001</td>\n",
       "    </tr>\n",
       "    <tr>\n",
       "      <th>organization</th>\n",
       "      <td>ООО Рога и Копыта</td>\n",
       "    </tr>\n",
       "    <tr>\n",
       "      <th>products</th>\n",
       "      <td>[{'nomenclature_name': 'Печенье', 'summa': 192, 'price': 16, 'quantity': 12, 'vat': '0_18', 'total': None}, {'nomenclature_name': 'Миникруассаны', 'summa': 35593.2, 'price': 296.61, 'quantity': 120, 'vat': '0_18', 'total': None}, {'nomenclature_name': 'Вафли', 'summa': 574, 'price': 82, 'quantity': 7, 'vat': '0_18', 'total': None}, {'nomenclature_name': 'Пирог', 'summa': 2964, 'price': 114, 'quantity': 26, 'vat': '0_20', 'total': None}, {'nomenclature_name': 'Миникруассаны', 'summa': 35593.2, 'price': 296.61, 'quantity': 120, 'vat': '0_18', 'total': None}, {'nomenclature_name': 'Пирог с вишней', 'summa': 372, 'price': 124, 'quantity': None, 'vat': '0_18', 'total': None}, {'nomenclature_name': 'Вафли', 'summa': 574, 'price': 82, 'quantity': 7, 'vat': '0_18', 'total': None}, {'nomenclature_name': 'Вафли Венские', 'summa': None, 'price': 33, 'quantity': 5, 'vat': '0_20', 'total': None}]</td>\n",
       "    </tr>\n",
       "    <tr>\n",
       "      <th>products_total_nds</th>\n",
       "      <td>None</td>\n",
       "    </tr>\n",
       "    <tr>\n",
       "      <th>products_total_price</th>\n",
       "      <td>None</td>\n",
       "    </tr>\n",
       "    <tr>\n",
       "      <th>type_nds</th>\n",
       "      <td>VAT_Top</td>\n",
       "    </tr>\n",
       "  </tbody>\n",
       "</table>\n",
       "</div>"
      ],
      "text/plain": [
       "                                                                                                                                                                                                                                                                                                                                                                                                                                                                                                                                                                                                                                                                                                                                                                                                                                                                                                                                                 items\n",
       "counterparty                                                                                                                                                                                                                                                                                                                                                                                                                                                                                                                                                                                                                                                                                                                                                                                                                                                                                                                               ООО Ромашка\n",
       "date                                                                                                                                                                                                                                                                                                                                                                                                                                                                                                                                                                                                                                                                                                                                                                                                                                                                                                                               2023-04-04T12:34:35\n",
       "id_document                                                                                                                                                                                                                                                                                                                                                                                                                                                                                                                                                                                                                                                                                                                                                                                                                                                                                                                                     000001\n",
       "organization                                                                                                                                                                                                                                                                                                                                                                                                                                                                                                                                                                                                                                                                                                                                                                                                                                                                                                                         ООО Рога и Копыта\n",
       "products              [{'nomenclature_name': 'Печенье', 'summa': 192, 'price': 16, 'quantity': 12, 'vat': '0_18', 'total': None}, {'nomenclature_name': 'Миникруассаны', 'summa': 35593.2, 'price': 296.61, 'quantity': 120, 'vat': '0_18', 'total': None}, {'nomenclature_name': 'Вафли', 'summa': 574, 'price': 82, 'quantity': 7, 'vat': '0_18', 'total': None}, {'nomenclature_name': 'Пирог', 'summa': 2964, 'price': 114, 'quantity': 26, 'vat': '0_20', 'total': None}, {'nomenclature_name': 'Миникруассаны', 'summa': 35593.2, 'price': 296.61, 'quantity': 120, 'vat': '0_18', 'total': None}, {'nomenclature_name': 'Пирог с вишней', 'summa': 372, 'price': 124, 'quantity': None, 'vat': '0_18', 'total': None}, {'nomenclature_name': 'Вафли', 'summa': 574, 'price': 82, 'quantity': 7, 'vat': '0_18', 'total': None}, {'nomenclature_name': 'Вафли Венские', 'summa': None, 'price': 33, 'quantity': 5, 'vat': '0_20', 'total': None}]\n",
       "products_total_nds                                                                                                                                                                                                                                                                                                                                                                                                                                                                                                                                                                                                                                                                                                                                                                                                                                                                                                                                None\n",
       "products_total_price                                                                                                                                                                                                                                                                                                                                                                                                                                                                                                                                                                                                                                                                                                                                                                                                                                                                                                                              None\n",
       "type_nds                                                                                                                                                                                                                                                                                                                                                                                                                                                                                                                                                                                                                                                                                                                                                                                                                                                                                                                                       VAT_Top"
      ]
     },
     "execution_count": 8,
     "metadata": {},
     "output_type": "execute_result"
    }
   ],
   "source": [
    "df"
   ]
  },
  {
   "cell_type": "code",
   "execution_count": 15,
   "id": "9f37032c",
   "metadata": {},
   "outputs": [],
   "source": [
    "new_df = df.iloc[4]"
   ]
  },
  {
   "cell_type": "code",
   "execution_count": 16,
   "id": "afadb3fe",
   "metadata": {},
   "outputs": [
    {
     "data": {
      "text/plain": [
       "items    [{'nomenclature_name': 'Печенье', 'summa': 192, 'price': 16, 'quantity': 12, 'vat': '0_18', 'total': None}, {'nomenclature_name': 'Миникруассаны', 'summa': 35593.2, 'price': 296.61, 'quantity': 120, 'vat': '0_18', 'total': None}, {'nomenclature_name': 'Вафли', 'summa': 574, 'price': 82, 'quantity': 7, 'vat': '0_18', 'total': None}, {'nomenclature_name': 'Пирог', 'summa': 2964, 'price': 114, 'quantity': 26, 'vat': '0_20', 'total': None}, {'nomenclature_name': 'Миникруассаны', 'summa': 35593.2, 'price': 296.61, 'quantity': 120, 'vat': '0_18', 'total': None}, {'nomenclature_name': 'Пирог с вишней', 'summa': 372, 'price': 124, 'quantity': None, 'vat': '0_18', 'total': None}, {'nomenclature_name': 'Вафли', 'summa': 574, 'price': 82, 'quantity': 7, 'vat': '0_18', 'total': None}, {'nomenclature_name': 'Вафли Венские', 'summa': None, 'price': 33, 'quantity': 5, 'vat': '0_20', 'total': None}]\n",
       "Name: products, dtype: object"
      ]
     },
     "execution_count": 16,
     "metadata": {},
     "output_type": "execute_result"
    }
   ],
   "source": [
    "new_df"
   ]
  },
  {
   "cell_type": "code",
   "execution_count": 24,
   "id": "b0392e2d",
   "metadata": {},
   "outputs": [],
   "source": [
    "new_df1 = new_df.reindex(['nomenclature_name', 'price', 'summa', 'quantity', 'vat', 'total'])\n",
    "#new_df[['nomenclature_name', 'price', 'summa', 'quantity', 'vat', 'total']]"
   ]
  },
  {
   "cell_type": "code",
   "execution_count": 25,
   "id": "b9a85821",
   "metadata": {},
   "outputs": [
    {
     "data": {
      "text/plain": [
       "nomenclature_name    NaN\n",
       "price                NaN\n",
       "summa                NaN\n",
       "quantity             NaN\n",
       "vat                  NaN\n",
       "total                NaN\n",
       "Name: products, dtype: object"
      ]
     },
     "execution_count": 25,
     "metadata": {},
     "output_type": "execute_result"
    }
   ],
   "source": [
    "new_df1"
   ]
  },
  {
   "cell_type": "code",
   "execution_count": 45,
   "id": "6c180471",
   "metadata": {},
   "outputs": [
    {
     "data": {
      "text/plain": [
       "[[{'nomenclature_name': 'Печенье',\n",
       "   'summa': 192,\n",
       "   'price': 16,\n",
       "   'quantity': 12,\n",
       "   'vat': '0_18',\n",
       "   'total': None},\n",
       "  {'nomenclature_name': 'Миникруассаны',\n",
       "   'summa': 35593.2,\n",
       "   'price': 296.61,\n",
       "   'quantity': 120,\n",
       "   'vat': '0_18',\n",
       "   'total': None},\n",
       "  {'nomenclature_name': 'Вафли',\n",
       "   'summa': 574,\n",
       "   'price': 82,\n",
       "   'quantity': 7,\n",
       "   'vat': '0_18',\n",
       "   'total': None},\n",
       "  {'nomenclature_name': 'Пирог',\n",
       "   'summa': 2964,\n",
       "   'price': 114,\n",
       "   'quantity': 26,\n",
       "   'vat': '0_20',\n",
       "   'total': None},\n",
       "  {'nomenclature_name': 'Миникруассаны',\n",
       "   'summa': 35593.2,\n",
       "   'price': 296.61,\n",
       "   'quantity': 120,\n",
       "   'vat': '0_18',\n",
       "   'total': None},\n",
       "  {'nomenclature_name': 'Пирог с вишней',\n",
       "   'summa': 372,\n",
       "   'price': 124,\n",
       "   'quantity': None,\n",
       "   'vat': '0_18',\n",
       "   'total': None},\n",
       "  {'nomenclature_name': 'Вафли',\n",
       "   'summa': 574,\n",
       "   'price': 82,\n",
       "   'quantity': 7,\n",
       "   'vat': '0_18',\n",
       "   'total': None},\n",
       "  {'nomenclature_name': 'Вафли Венские',\n",
       "   'summa': None,\n",
       "   'price': 33,\n",
       "   'quantity': 5,\n",
       "   'vat': '0_20',\n",
       "   'total': None}]]"
      ]
     },
     "execution_count": 45,
     "metadata": {},
     "output_type": "execute_result"
    }
   ],
   "source": [
    "df3 = list(new_df.values)\n",
    "df3"
   ]
  },
  {
   "cell_type": "code",
   "execution_count": 112,
   "id": "0ef88c02",
   "metadata": {},
   "outputs": [
    {
     "name": "stdout",
     "output_type": "stream",
     "text": [
      "{'nomenclature_name': 'Печенье', 'summa': 192, 'price': 16, 'quantity': 12, 'vat': '0_18', 'total': None}\n",
      "{'nomenclature_name': 'Миникруассаны', 'summa': 35593.2, 'price': 296.61, 'quantity': 120, 'vat': '0_18', 'total': None}\n",
      "{'nomenclature_name': 'Вафли', 'summa': 574, 'price': 82, 'quantity': 7, 'vat': '0_18', 'total': None}\n",
      "{'nomenclature_name': 'Пирог', 'summa': 2964, 'price': 114, 'quantity': 26, 'vat': '0_20', 'total': None}\n",
      "{'nomenclature_name': 'Миникруассаны', 'summa': 35593.2, 'price': 296.61, 'quantity': 120, 'vat': '0_18', 'total': None}\n",
      "{'nomenclature_name': 'Пирог с вишней', 'summa': 372, 'price': 124, 'quantity': None, 'vat': '0_18', 'total': None}\n",
      "{'nomenclature_name': 'Вафли', 'summa': 574, 'price': 82, 'quantity': 7, 'vat': '0_18', 'total': None}\n",
      "{'nomenclature_name': 'Вафли Венские', 'price': 33, 'quantity': 5, 'vat': '0_20'}\n"
     ]
    }
   ],
   "source": [
    "for i in df3[0]:\n",
    "    d = i\n",
    "    print(d)"
   ]
  },
  {
   "cell_type": "code",
   "execution_count": 111,
   "id": "a49756fc",
   "metadata": {},
   "outputs": [
    {
     "data": {
      "text/plain": [
       "{'nomenclature_name': 'Вафли Венские',\n",
       " 'price': 33,\n",
       " 'quantity': 5,\n",
       " 'vat': '0_20'}"
      ]
     },
     "execution_count": 111,
     "metadata": {},
     "output_type": "execute_result"
    }
   ],
   "source": [
    "d"
   ]
  },
  {
   "cell_type": "code",
   "execution_count": 138,
   "id": "20f70b80",
   "metadata": {},
   "outputs": [
    {
     "name": "stdout",
     "output_type": "stream",
     "text": [
      "{'nomenclature_name': 'Печенье', 'summa': 192, 'price': 16, 'quantity': 12, 'vat': '0_18'}\n",
      "{'nomenclature_name': 'Миникруассаны', 'summa': 35593.2, 'price': 296.61, 'quantity': 120, 'vat': '0_18'}\n",
      "{'nomenclature_name': 'Вафли', 'summa': 574, 'price': 82, 'quantity': 7, 'vat': '0_18'}\n",
      "{'nomenclature_name': 'Пирог', 'summa': 2964, 'price': 114, 'quantity': 26, 'vat': '0_20'}\n",
      "{'nomenclature_name': 'Миникруассаны', 'summa': 35593.2, 'price': 296.61, 'quantity': 120, 'vat': '0_18'}\n",
      "{'nomenclature_name': 'Пирог с вишней', 'summa': 372, 'price': 124, 'quantity': 120, 'vat': '0_18'}\n",
      "{'nomenclature_name': 'Вафли', 'summa': 574, 'price': 82, 'quantity': 7, 'vat': '0_18'}\n",
      "{'nomenclature_name': 'Вафли Венские', 'summa': 574, 'price': 33, 'quantity': 5, 'vat': '0_20'}\n"
     ]
    }
   ],
   "source": [
    "new_dict = {}\n",
    "\n",
    "keys = ('summa', 'total')\n",
    "for i in df3[0]:     \n",
    "    d = i     \n",
    "    for key, value in d.items():         \n",
    "        if value is not None:                  \n",
    "            new_dict[key] = value\n",
    "    print(new_dict)\n",
    "\n",
    "        "
   ]
  },
  {
   "cell_type": "code",
   "execution_count": 142,
   "id": "ba4b6481",
   "metadata": {},
   "outputs": [
    {
     "name": "stdout",
     "output_type": "stream",
     "text": [
      "38.400000000000006\n",
      "7118.639999999999\n",
      "114.80000000000001\n",
      "592.8000000000001\n",
      "7118.639999999999\n",
      "74.4\n",
      "114.80000000000001\n",
      "114.80000000000001\n"
     ]
    }
   ],
   "source": [
    "new_dict = {}  \n",
    "keys = ('summa', 'total') \n",
    "for i in df3[0]:          \n",
    "    d = i          \n",
    "    for key, value in d.items():                  \n",
    "        if value is not None:                               \n",
    "            new_dict[key] = value     \n",
    "    the_sum = new_dict['summa'] * 0.2\n",
    "    print(the_sum)\n",
    "     "
   ]
  },
  {
   "cell_type": "code",
   "execution_count": 172,
   "id": "b303f7bf",
   "metadata": {},
   "outputs": [
    {
     "name": "stdout",
     "output_type": "stream",
     "text": [
      "38\n",
      "7118\n",
      "114\n",
      "592\n",
      "7118\n",
      "74\n",
      "114\n",
      "114\n"
     ]
    }
   ],
   "source": [
    "new_dict = {} \n",
    "count = 0\n",
    "sumу = 0 \n",
    "keys = ('summa', 'total')  \n",
    "for i in df3[0]:               \n",
    "    d = i               \n",
    "    for key, value in d.items():                           \n",
    "        if value is not None:                                            \n",
    "            new_dict[key] = value          \n",
    "    the_sum = int(new_dict['summa'] * 0.2)\n",
    "    print(the_sum)\n",
    "\n"
   ]
  },
  {
   "cell_type": "code",
   "execution_count": 175,
   "id": "521e7831",
   "metadata": {},
   "outputs": [
    {
     "data": {
      "text/plain": [
       "15282"
      ]
     },
     "execution_count": 175,
     "metadata": {},
     "output_type": "execute_result"
    }
   ],
   "source": [
    "products_total_nds = 38+7118+114+592+7118+74+114+114\n",
    "products_total_nds"
   ]
  },
  {
   "cell_type": "code",
   "execution_count": null,
   "id": "b629c611",
   "metadata": {},
   "outputs": [],
   "source": [
    "products_total_price"
   ]
  },
  {
   "cell_type": "code",
   "execution_count": 176,
   "id": "8a307a01",
   "metadata": {},
   "outputs": [
    {
     "name": "stdout",
     "output_type": "stream",
     "text": [
      "16\n",
      "296\n",
      "82\n",
      "114\n",
      "296\n",
      "124\n",
      "82\n",
      "33\n"
     ]
    }
   ],
   "source": [
    "new_dict = {}  \n",
    "count = 0 \n",
    "sumу = 0  \n",
    "keys = ('summa', 'total')   \n",
    "for i in df3[0]:                    \n",
    "    d = i                    \n",
    "    for key, value in d.items():                                    \n",
    "        if value is not None:                                                         \n",
    "            new_dict[key] = value               \n",
    "    the_sum = int(new_dict['price'])     \n",
    "    print(the_sum)"
   ]
  },
  {
   "cell_type": "code",
   "execution_count": 177,
   "id": "44c4641d",
   "metadata": {},
   "outputs": [
    {
     "data": {
      "text/plain": [
       "1043"
      ]
     },
     "execution_count": 177,
     "metadata": {},
     "output_type": "execute_result"
    }
   ],
   "source": [
    "products_total_price = 16+296+82+114+296+124+82+33\n",
    "products_total_price"
   ]
  },
  {
   "cell_type": "code",
   "execution_count": 185,
   "id": "c7a9f123",
   "metadata": {},
   "outputs": [
    {
     "name": "stdout",
     "output_type": "stream",
     "text": [
      "False\n",
      "True\n",
      "False\n",
      "True\n",
      "True\n",
      "True\n",
      "False\n",
      "False\n"
     ]
    }
   ],
   "source": [
    "new_dict = {}   \n",
    "count = 0  \n",
    "sumу = 0   \n",
    "keys = ('summa', 'total')    \n",
    "for i in df3[0]:                         \n",
    "    d = i                         \n",
    "    for key, value in d.items():                                             \n",
    "        if value is not None:                                                                      \n",
    "            new_dict[key] = value \n",
    "    the_sum = int(new_dict['price'])           \n",
    "    print(the_sum > 100)"
   ]
  },
  {
   "cell_type": "code",
   "execution_count": 188,
   "id": "51858170",
   "metadata": {},
   "outputs": [
    {
     "data": {
      "text/plain": [
       "items    2023-04-04T12:34:35\n",
       "Name: date, dtype: object"
      ]
     },
     "execution_count": 188,
     "metadata": {},
     "output_type": "execute_result"
    }
   ],
   "source": [
    "new_df = df.iloc[1]\n",
    "new_df"
   ]
  },
  {
   "cell_type": "code",
   "execution_count": 53,
   "id": "ff92483b",
   "metadata": {},
   "outputs": [
    {
     "name": "stdout",
     "output_type": "stream",
     "text": [
      "[{'nomenclature_name': 'Печенье', 'summa': 192, 'price': 16, 'quantity': 12, 'vat': '0_18', 'total': None}, {'nomenclature_name': 'Миникруассаны', 'summa': 35593.2, 'price': 296.61, 'quantity': 120, 'vat': '0_18', 'total': None}, {'nomenclature_name': 'Вафли', 'summa': 574, 'price': 82, 'quantity': 7, 'vat': '0_18', 'total': None}, {'nomenclature_name': 'Пирог', 'summa': 2964, 'price': 114, 'quantity': 26, 'vat': '0_20', 'total': None}, {'nomenclature_name': 'Миникруассаны', 'summa': 35593.2, 'price': 296.61, 'quantity': 120, 'vat': '0_18', 'total': None}, {'nomenclature_name': 'Пирог с вишней', 'summa': 372, 'price': 124, 'quantity': None, 'vat': '0_18', 'total': None}, {'nomenclature_name': 'Вафли', 'summa': 574, 'price': 82, 'quantity': 7, 'vat': '0_18', 'total': None}, {'nomenclature_name': 'Вафли Венские', 'summa': None, 'price': 33, 'quantity': 5, 'vat': '0_20', 'total': None}]\n"
     ]
    }
   ],
   "source": [
    "for i in df3:\n",
    "    print(i)"
   ]
  },
  {
   "cell_type": "code",
   "execution_count": 44,
   "id": "27ad32b3",
   "metadata": {},
   "outputs": [
    {
     "data": {
      "text/html": [
       "<div>\n",
       "<style scoped>\n",
       "    .dataframe tbody tr th:only-of-type {\n",
       "        vertical-align: middle;\n",
       "    }\n",
       "\n",
       "    .dataframe tbody tr th {\n",
       "        vertical-align: top;\n",
       "    }\n",
       "\n",
       "    .dataframe thead th {\n",
       "        text-align: right;\n",
       "    }\n",
       "</style>\n",
       "<table border=\"1\" class=\"dataframe\">\n",
       "  <thead>\n",
       "    <tr style=\"text-align: right;\">\n",
       "      <th></th>\n",
       "      <th>0</th>\n",
       "      <th>1</th>\n",
       "      <th>2</th>\n",
       "      <th>3</th>\n",
       "      <th>4</th>\n",
       "      <th>5</th>\n",
       "      <th>6</th>\n",
       "      <th>7</th>\n",
       "    </tr>\n",
       "  </thead>\n",
       "  <tbody>\n",
       "    <tr>\n",
       "      <th>0</th>\n",
       "      <td>{'nomenclature_name': 'Печенье', 'summa': 192, 'price': 16, 'quantity': 12, 'vat': '0_18', 'total': None}</td>\n",
       "      <td>{'nomenclature_name': 'Миникруассаны', 'summa': 35593.2, 'price': 296.61, 'quantity': 120, 'vat': '0_18', 'total': None}</td>\n",
       "      <td>{'nomenclature_name': 'Вафли', 'summa': 574, 'price': 82, 'quantity': 7, 'vat': '0_18', 'total': None}</td>\n",
       "      <td>{'nomenclature_name': 'Пирог', 'summa': 2964, 'price': 114, 'quantity': 26, 'vat': '0_20', 'total': None}</td>\n",
       "      <td>{'nomenclature_name': 'Миникруассаны', 'summa': 35593.2, 'price': 296.61, 'quantity': 120, 'vat': '0_18', 'total': None}</td>\n",
       "      <td>{'nomenclature_name': 'Пирог с вишней', 'summa': 372, 'price': 124, 'quantity': None, 'vat': '0_18', 'total': None}</td>\n",
       "      <td>{'nomenclature_name': 'Вафли', 'summa': 574, 'price': 82, 'quantity': 7, 'vat': '0_18', 'total': None}</td>\n",
       "      <td>{'nomenclature_name': 'Вафли Венские', 'summa': None, 'price': 33, 'quantity': 5, 'vat': '0_20', 'total': None}</td>\n",
       "    </tr>\n",
       "  </tbody>\n",
       "</table>\n",
       "</div>"
      ],
      "text/plain": [
       "                                                                                                           0  \\\n",
       "0  {'nomenclature_name': 'Печенье', 'summa': 192, 'price': 16, 'quantity': 12, 'vat': '0_18', 'total': None}   \n",
       "\n",
       "                                                                                                                          1  \\\n",
       "0  {'nomenclature_name': 'Миникруассаны', 'summa': 35593.2, 'price': 296.61, 'quantity': 120, 'vat': '0_18', 'total': None}   \n",
       "\n",
       "                                                                                                        2  \\\n",
       "0  {'nomenclature_name': 'Вафли', 'summa': 574, 'price': 82, 'quantity': 7, 'vat': '0_18', 'total': None}   \n",
       "\n",
       "                                                                                                           3  \\\n",
       "0  {'nomenclature_name': 'Пирог', 'summa': 2964, 'price': 114, 'quantity': 26, 'vat': '0_20', 'total': None}   \n",
       "\n",
       "                                                                                                                          4  \\\n",
       "0  {'nomenclature_name': 'Миникруассаны', 'summa': 35593.2, 'price': 296.61, 'quantity': 120, 'vat': '0_18', 'total': None}   \n",
       "\n",
       "                                                                                                                     5  \\\n",
       "0  {'nomenclature_name': 'Пирог с вишней', 'summa': 372, 'price': 124, 'quantity': None, 'vat': '0_18', 'total': None}   \n",
       "\n",
       "                                                                                                        6  \\\n",
       "0  {'nomenclature_name': 'Вафли', 'summa': 574, 'price': 82, 'quantity': 7, 'vat': '0_18', 'total': None}   \n",
       "\n",
       "                                                                                                                 7  \n",
       "0  {'nomenclature_name': 'Вафли Венские', 'summa': None, 'price': 33, 'quantity': 5, 'vat': '0_20', 'total': None}  "
      ]
     },
     "execution_count": 44,
     "metadata": {},
     "output_type": "execute_result"
    }
   ],
   "source": [
    "df4 = pd.DataFrame(df3)\n",
    "df4"
   ]
  },
  {
   "cell_type": "code",
   "execution_count": null,
   "id": "119923da",
   "metadata": {},
   "outputs": [],
   "source": []
  }
 ],
 "metadata": {
  "kernelspec": {
   "display_name": "Python 3 (ipykernel)",
   "language": "python",
   "name": "python3"
  },
  "language_info": {
   "codemirror_mode": {
    "name": "ipython",
    "version": 3
   },
   "file_extension": ".py",
   "mimetype": "text/x-python",
   "name": "python",
   "nbconvert_exporter": "python",
   "pygments_lexer": "ipython3",
   "version": "3.9.16"
  }
 },
 "nbformat": 4,
 "nbformat_minor": 5
}
